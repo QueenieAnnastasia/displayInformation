{
 "cells": [
  {
   "cell_type": "code",
   "execution_count": 3,
   "id": "b4781050",
   "metadata": {},
   "outputs": [
    {
     "name": "stdout",
     "output_type": "stream",
     "text": [
      "Họ và tên: Nguyễn Thị Quỳnh Anh\n"
     ]
    }
   ],
   "source": [
    "print(\"Họ và tên: Nguyễn Thị Quỳnh Anh\")"
   ]
  },
  {
   "cell_type": "code",
   "execution_count": 4,
   "id": "a435bdfb",
   "metadata": {},
   "outputs": [
    {
     "name": "stdout",
     "output_type": "stream",
     "text": [
      "Ngày sinh: 17/12/2001\n"
     ]
    }
   ],
   "source": [
    "print(\"Ngày sinh: 17/12/2001\")"
   ]
  },
  {
   "cell_type": "code",
   "execution_count": 5,
   "id": "8b170e57",
   "metadata": {},
   "outputs": [
    {
     "name": "stdout",
     "output_type": "stream",
     "text": [
      "Địa chỉ: Quận Tây Hồ, TP Hà Nội\n"
     ]
    }
   ],
   "source": [
    "print(\"Địa chỉ: Quận Tây Hồ, TP Hà Nội\")"
   ]
  },
  {
   "cell_type": "code",
   "execution_count": 6,
   "id": "64b7f211",
   "metadata": {},
   "outputs": [
    {
     "name": "stdout",
     "output_type": "stream",
     "text": [
      "Mục đích đến với khóa học Python: Phục vụ cho công việc DA tương lai\n"
     ]
    }
   ],
   "source": [
    "print(\"Mục đích đến với khóa học Python: Phục vụ cho công việc DA tương lai\")"
   ]
  }
 ],
 "metadata": {
  "kernelspec": {
   "display_name": "Python 3 (ipykernel)",
   "language": "python",
   "name": "python3"
  },
  "language_info": {
   "codemirror_mode": {
    "name": "ipython",
    "version": 3
   },
   "file_extension": ".py",
   "mimetype": "text/x-python",
   "name": "python",
   "nbconvert_exporter": "python",
   "pygments_lexer": "ipython3",
   "version": "3.10.5"
  }
 },
 "nbformat": 4,
 "nbformat_minor": 5
}
